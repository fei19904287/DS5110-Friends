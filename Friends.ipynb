{
 "cells": [
  {
   "cell_type": "code",
   "execution_count": 296,
   "metadata": {},
   "outputs": [
    {
     "name": "stdout",
     "output_type": "stream",
     "text": [
      "Requirement already satisfied: pandas in /opt/anaconda3/lib/python3.12/site-packages (2.2.2)\n",
      "Requirement already satisfied: textblob in /opt/anaconda3/lib/python3.12/site-packages (0.18.0.post0)\n",
      "Requirement already satisfied: matplotlib in /opt/anaconda3/lib/python3.12/site-packages (3.8.4)\n",
      "Requirement already satisfied: ipython in /opt/anaconda3/lib/python3.12/site-packages (8.25.0)\n",
      "Requirement already satisfied: numpy>=1.26.0 in /opt/anaconda3/lib/python3.12/site-packages (from pandas) (1.26.4)\n",
      "Requirement already satisfied: python-dateutil>=2.8.2 in /opt/anaconda3/lib/python3.12/site-packages (from pandas) (2.9.0.post0)\n",
      "Requirement already satisfied: pytz>=2020.1 in /opt/anaconda3/lib/python3.12/site-packages (from pandas) (2024.1)\n",
      "Requirement already satisfied: tzdata>=2022.7 in /opt/anaconda3/lib/python3.12/site-packages (from pandas) (2023.3)\n",
      "Requirement already satisfied: nltk>=3.8 in /opt/anaconda3/lib/python3.12/site-packages (from textblob) (3.8.1)\n",
      "Requirement already satisfied: contourpy>=1.0.1 in /opt/anaconda3/lib/python3.12/site-packages (from matplotlib) (1.2.0)\n",
      "Requirement already satisfied: cycler>=0.10 in /opt/anaconda3/lib/python3.12/site-packages (from matplotlib) (0.11.0)\n",
      "Requirement already satisfied: fonttools>=4.22.0 in /opt/anaconda3/lib/python3.12/site-packages (from matplotlib) (4.51.0)\n",
      "Requirement already satisfied: kiwisolver>=1.3.1 in /opt/anaconda3/lib/python3.12/site-packages (from matplotlib) (1.4.4)\n",
      "Requirement already satisfied: packaging>=20.0 in /opt/anaconda3/lib/python3.12/site-packages (from matplotlib) (23.2)\n",
      "Requirement already satisfied: pillow>=8 in /opt/anaconda3/lib/python3.12/site-packages (from matplotlib) (10.3.0)\n",
      "Requirement already satisfied: pyparsing>=2.3.1 in /opt/anaconda3/lib/python3.12/site-packages (from matplotlib) (3.0.9)\n",
      "Requirement already satisfied: decorator in /opt/anaconda3/lib/python3.12/site-packages (from ipython) (5.1.1)\n",
      "Requirement already satisfied: jedi>=0.16 in /opt/anaconda3/lib/python3.12/site-packages (from ipython) (0.18.1)\n",
      "Requirement already satisfied: matplotlib-inline in /opt/anaconda3/lib/python3.12/site-packages (from ipython) (0.1.6)\n",
      "Requirement already satisfied: prompt-toolkit<3.1.0,>=3.0.41 in /opt/anaconda3/lib/python3.12/site-packages (from ipython) (3.0.43)\n",
      "Requirement already satisfied: pygments>=2.4.0 in /opt/anaconda3/lib/python3.12/site-packages (from ipython) (2.15.1)\n",
      "Requirement already satisfied: stack-data in /opt/anaconda3/lib/python3.12/site-packages (from ipython) (0.2.0)\n",
      "Requirement already satisfied: traitlets>=5.13.0 in /opt/anaconda3/lib/python3.12/site-packages (from ipython) (5.14.3)\n",
      "Requirement already satisfied: pexpect>4.3 in /opt/anaconda3/lib/python3.12/site-packages (from ipython) (4.8.0)\n",
      "Requirement already satisfied: parso<0.9.0,>=0.8.0 in /opt/anaconda3/lib/python3.12/site-packages (from jedi>=0.16->ipython) (0.8.3)\n",
      "Requirement already satisfied: click in /opt/anaconda3/lib/python3.12/site-packages (from nltk>=3.8->textblob) (8.1.7)\n",
      "Requirement already satisfied: joblib in /opt/anaconda3/lib/python3.12/site-packages (from nltk>=3.8->textblob) (1.4.2)\n",
      "Requirement already satisfied: regex>=2021.8.3 in /opt/anaconda3/lib/python3.12/site-packages (from nltk>=3.8->textblob) (2023.10.3)\n",
      "Requirement already satisfied: tqdm in /opt/anaconda3/lib/python3.12/site-packages (from nltk>=3.8->textblob) (4.66.4)\n",
      "Requirement already satisfied: ptyprocess>=0.5 in /opt/anaconda3/lib/python3.12/site-packages (from pexpect>4.3->ipython) (0.7.0)\n",
      "Requirement already satisfied: wcwidth in /opt/anaconda3/lib/python3.12/site-packages (from prompt-toolkit<3.1.0,>=3.0.41->ipython) (0.2.5)\n",
      "Requirement already satisfied: six>=1.5 in /opt/anaconda3/lib/python3.12/site-packages (from python-dateutil>=2.8.2->pandas) (1.16.0)\n",
      "Requirement already satisfied: executing in /opt/anaconda3/lib/python3.12/site-packages (from stack-data->ipython) (0.8.3)\n",
      "Requirement already satisfied: asttokens in /opt/anaconda3/lib/python3.12/site-packages (from stack-data->ipython) (2.0.5)\n",
      "Requirement already satisfied: pure-eval in /opt/anaconda3/lib/python3.12/site-packages (from stack-data->ipython) (0.2.2)\n"
     ]
    }
   ],
   "source": [
    "! pip install pandas textblob matplotlib ipython"
   ]
  },
  {
   "cell_type": "code",
   "execution_count": 297,
   "metadata": {},
   "outputs": [
    {
     "name": "stdout",
     "output_type": "stream",
     "text": [
      "agg\n"
     ]
    }
   ],
   "source": [
    "import os\n",
    "import pandas as pd\n",
    "import re\n",
    "from textblob import TextBlob\n",
    "import sqlite3\n",
    "import matplotlib\n",
    "matplotlib.use('Agg')  # Non-interactive backend for generating plots\n",
    "print(matplotlib.get_backend())\n",
    "# matplotlib.use('module://matplotlib_inline.backend_inline')\n",
    "import matplotlib.pyplot as plt\n",
    "from IPython.display import set_matplotlib_formats\n",
    "import warnings\n",
    "\n",
    "# Set matplotlib formats\n",
    "set_matplotlib_formats('retina', quality=100)\n",
    "\n",
    "warnings.filterwarnings('ignore')"
   ]
  },
  {
   "cell_type": "code",
   "execution_count": 298,
   "metadata": {},
   "outputs": [],
   "source": [
    "# Define the base directory where the script files are stored\n",
    "BASE_URL = 'script_dataset/'\n",
    "\n",
    "# Initialize an empty list to store the parsed script data\n",
    "master_array = []\n",
    "\n",
    "# Iterate over each file in the base directory\n",
    "for filename in os.listdir(BASE_URL):\n",
    "    \n",
    "    f = open(BASE_URL+filename, \"r\", encoding='utf-8')\n",
    "    \n",
    "    split_name = filename.split('.') #obtain the season and episodes\n",
    "    season = split_name[0]   \n",
    "    episode = split_name[1]\n",
    "    \n",
    "    script = f.read() #read the script file\n",
    "    pattern = re.compile(r'\\s(?=\\w+(?=:))') # store the regex\n",
    "    result = re.split(pattern, script) # split the script where our pattern matched (pink dot)\n",
    "    \n",
    "    for item in result:\n",
    "        split_line = item.split(':')\n",
    "        try:\n",
    "            character = split_line[0]\n",
    "            speech = split_line[1]\n",
    "            master_array.append([season, episode, character, speech])\n",
    "        except:\n",
    "            pass"
   ]
  },
  {
   "cell_type": "code",
   "execution_count": 299,
   "metadata": {},
   "outputs": [
    {
     "data": {
      "text/html": [
       "<div>\n",
       "<style scoped>\n",
       "    .dataframe tbody tr th:only-of-type {\n",
       "        vertical-align: middle;\n",
       "    }\n",
       "\n",
       "    .dataframe tbody tr th {\n",
       "        vertical-align: top;\n",
       "    }\n",
       "\n",
       "    .dataframe thead th {\n",
       "        text-align: right;\n",
       "    }\n",
       "</style>\n",
       "<table border=\"1\" class=\"dataframe\">\n",
       "  <thead>\n",
       "    <tr style=\"text-align: right;\">\n",
       "      <th></th>\n",
       "      <th>season</th>\n",
       "      <th>episode</th>\n",
       "      <th>char</th>\n",
       "      <th>line</th>\n",
       "    </tr>\n",
       "  </thead>\n",
       "  <tbody>\n",
       "    <tr>\n",
       "      <th>0</th>\n",
       "      <td>6</td>\n",
       "      <td>16</td>\n",
       "      <td>by</td>\n",
       "      <td>Adam Chase\\nStory</td>\n",
       "    </tr>\n",
       "    <tr>\n",
       "      <th>1</th>\n",
       "      <td>6</td>\n",
       "      <td>16</td>\n",
       "      <td>by</td>\n",
       "      <td>Zachary Rosenblatt\\nTranscribed</td>\n",
       "    </tr>\n",
       "    <tr>\n",
       "      <th>2</th>\n",
       "      <td>6</td>\n",
       "      <td>16</td>\n",
       "      <td>by</td>\n",
       "      <td>Eric Aasen\\n\\n[Scene</td>\n",
       "    </tr>\n",
       "    <tr>\n",
       "      <th>3</th>\n",
       "      <td>6</td>\n",
       "      <td>16</td>\n",
       "      <td>Ross</td>\n",
       "      <td>Hey, remember when I had a monkey?</td>\n",
       "    </tr>\n",
       "    <tr>\n",
       "      <th>4</th>\n",
       "      <td>6</td>\n",
       "      <td>16</td>\n",
       "      <td>Chandler</td>\n",
       "      <td>Yeah.</td>\n",
       "    </tr>\n",
       "    <tr>\n",
       "      <th>...</th>\n",
       "      <td>...</td>\n",
       "      <td>...</td>\n",
       "      <td>...</td>\n",
       "      <td>...</td>\n",
       "    </tr>\n",
       "    <tr>\n",
       "      <th>61822</th>\n",
       "      <td>8</td>\n",
       "      <td>22</td>\n",
       "      <td>Monica</td>\n",
       "      <td>How did you know that?! (Runs to yell at Joey...</td>\n",
       "    </tr>\n",
       "    <tr>\n",
       "      <th>61823</th>\n",
       "      <td>8</td>\n",
       "      <td>22</td>\n",
       "      <td>Phoebe</td>\n",
       "      <td>Theyre at the coffeehouse.</td>\n",
       "    </tr>\n",
       "    <tr>\n",
       "      <th>61824</th>\n",
       "      <td>8</td>\n",
       "      <td>22</td>\n",
       "      <td>Monica</td>\n",
       "      <td>You know everything!! Oh wait, double or noth...</td>\n",
       "    </tr>\n",
       "    <tr>\n",
       "      <th>61825</th>\n",
       "      <td>8</td>\n",
       "      <td>22</td>\n",
       "      <td>Phoebe</td>\n",
       "      <td>We know its a girl! (Exits.)</td>\n",
       "    </tr>\n",
       "    <tr>\n",
       "      <th>61826</th>\n",
       "      <td>8</td>\n",
       "      <td>22</td>\n",
       "      <td>Monica</td>\n",
       "      <td>(following her) Ill give you really good odd...</td>\n",
       "    </tr>\n",
       "  </tbody>\n",
       "</table>\n",
       "<p>61827 rows × 4 columns</p>\n",
       "</div>"
      ],
      "text/plain": [
       "      season episode      char  \\\n",
       "0          6      16        by   \n",
       "1          6      16        by   \n",
       "2          6      16        by   \n",
       "3          6      16      Ross   \n",
       "4          6      16  Chandler   \n",
       "...      ...     ...       ...   \n",
       "61822      8      22    Monica   \n",
       "61823      8      22    Phoebe   \n",
       "61824      8      22    Monica   \n",
       "61825      8      22    Phoebe   \n",
       "61826      8      22    Monica   \n",
       "\n",
       "                                                    line  \n",
       "0                                      Adam Chase\\nStory  \n",
       "1                        Zachary Rosenblatt\\nTranscribed  \n",
       "2                                   Eric Aasen\\n\\n[Scene  \n",
       "3                     Hey, remember when I had a monkey?  \n",
       "4                                                  Yeah.  \n",
       "...                                                  ...  \n",
       "61822   How did you know that?! (Runs to yell at Joey...  \n",
       "61823                        Theyre at the coffeehouse.  \n",
       "61824   You know everything!! Oh wait, double or noth...  \n",
       "61825                      We know its a girl! (Exits.)  \n",
       "61826   (following her) Ill give you really good odd...  \n",
       "\n",
       "[61827 rows x 4 columns]"
      ]
     },
     "execution_count": 299,
     "metadata": {},
     "output_type": "execute_result"
    }
   ],
   "source": [
    "df = pd.DataFrame(master_array, columns=['season', 'episode', 'char', 'line'])\n",
    "df"
   ]
  },
  {
   "cell_type": "code",
   "execution_count": 300,
   "metadata": {},
   "outputs": [
    {
     "data": {
      "text/html": [
       "<div>\n",
       "<style scoped>\n",
       "    .dataframe tbody tr th:only-of-type {\n",
       "        vertical-align: middle;\n",
       "    }\n",
       "\n",
       "    .dataframe tbody tr th {\n",
       "        vertical-align: top;\n",
       "    }\n",
       "\n",
       "    .dataframe thead th {\n",
       "        text-align: right;\n",
       "    }\n",
       "</style>\n",
       "<table border=\"1\" class=\"dataframe\">\n",
       "  <thead>\n",
       "    <tr style=\"text-align: right;\">\n",
       "      <th></th>\n",
       "      <th>season</th>\n",
       "      <th>episode</th>\n",
       "      <th>char</th>\n",
       "      <th>line</th>\n",
       "    </tr>\n",
       "  </thead>\n",
       "  <tbody>\n",
       "    <tr>\n",
       "      <th>3</th>\n",
       "      <td>6</td>\n",
       "      <td>16</td>\n",
       "      <td>Ross</td>\n",
       "      <td>Hey, remember when I had a monkey?</td>\n",
       "    </tr>\n",
       "    <tr>\n",
       "      <th>4</th>\n",
       "      <td>6</td>\n",
       "      <td>16</td>\n",
       "      <td>Chandler</td>\n",
       "      <td>Yeah.</td>\n",
       "    </tr>\n",
       "    <tr>\n",
       "      <th>5</th>\n",
       "      <td>6</td>\n",
       "      <td>16</td>\n",
       "      <td>Ross</td>\n",
       "      <td>Yeah, what, what was I thinking?</td>\n",
       "    </tr>\n",
       "    <tr>\n",
       "      <th>6</th>\n",
       "      <td>6</td>\n",
       "      <td>16</td>\n",
       "      <td>Joey</td>\n",
       "      <td>(hes just picked up their bill) Hey! So, wha...</td>\n",
       "    </tr>\n",
       "    <tr>\n",
       "      <th>7</th>\n",
       "      <td>6</td>\n",
       "      <td>16</td>\n",
       "      <td>Chandler</td>\n",
       "      <td>Twenty percent is a pretty generous tip Joe.</td>\n",
       "    </tr>\n",
       "    <tr>\n",
       "      <th>...</th>\n",
       "      <td>...</td>\n",
       "      <td>...</td>\n",
       "      <td>...</td>\n",
       "      <td>...</td>\n",
       "    </tr>\n",
       "    <tr>\n",
       "      <th>61822</th>\n",
       "      <td>8</td>\n",
       "      <td>22</td>\n",
       "      <td>Monica</td>\n",
       "      <td>How did you know that?! (Runs to yell at Joey...</td>\n",
       "    </tr>\n",
       "    <tr>\n",
       "      <th>61823</th>\n",
       "      <td>8</td>\n",
       "      <td>22</td>\n",
       "      <td>Phoebe</td>\n",
       "      <td>Theyre at the coffeehouse.</td>\n",
       "    </tr>\n",
       "    <tr>\n",
       "      <th>61824</th>\n",
       "      <td>8</td>\n",
       "      <td>22</td>\n",
       "      <td>Monica</td>\n",
       "      <td>You know everything!! Oh wait, double or noth...</td>\n",
       "    </tr>\n",
       "    <tr>\n",
       "      <th>61825</th>\n",
       "      <td>8</td>\n",
       "      <td>22</td>\n",
       "      <td>Phoebe</td>\n",
       "      <td>We know its a girl! (Exits.)</td>\n",
       "    </tr>\n",
       "    <tr>\n",
       "      <th>61826</th>\n",
       "      <td>8</td>\n",
       "      <td>22</td>\n",
       "      <td>Monica</td>\n",
       "      <td>(following her) Ill give you really good odd...</td>\n",
       "    </tr>\n",
       "  </tbody>\n",
       "</table>\n",
       "<p>61329 rows × 4 columns</p>\n",
       "</div>"
      ],
      "text/plain": [
       "      season episode      char  \\\n",
       "3          6      16      Ross   \n",
       "4          6      16  Chandler   \n",
       "5          6      16      Ross   \n",
       "6          6      16      Joey   \n",
       "7          6      16  Chandler   \n",
       "...      ...     ...       ...   \n",
       "61822      8      22    Monica   \n",
       "61823      8      22    Phoebe   \n",
       "61824      8      22    Monica   \n",
       "61825      8      22    Phoebe   \n",
       "61826      8      22    Monica   \n",
       "\n",
       "                                                    line  \n",
       "3                     Hey, remember when I had a monkey?  \n",
       "4                                                  Yeah.  \n",
       "5                       Yeah, what, what was I thinking?  \n",
       "6       (hes just picked up their bill) Hey! So, wha...  \n",
       "7           Twenty percent is a pretty generous tip Joe.  \n",
       "...                                                  ...  \n",
       "61822   How did you know that?! (Runs to yell at Joey...  \n",
       "61823                        Theyre at the coffeehouse.  \n",
       "61824   You know everything!! Oh wait, double or noth...  \n",
       "61825                      We know its a girl! (Exits.)  \n",
       "61826   (following her) Ill give you really good odd...  \n",
       "\n",
       "[61329 rows x 4 columns]"
      ]
     },
     "execution_count": 300,
     "metadata": {},
     "output_type": "execute_result"
    }
   ],
   "source": [
    "# Droping all of these rows by removing the character 'by'\n",
    "df = df[df.char != 'by']\n",
    "# Drop rows with null values in the DataFrame\n",
    "df = df.dropna()\n",
    "df\n"
   ]
  },
  {
   "cell_type": "code",
   "execution_count": 301,
   "metadata": {},
   "outputs": [
    {
     "data": {
      "text/plain": [
       "array(['Janitor', 'From', '2', 'Long', 'guy', 'like', 'Erica', 'Waiter',\n",
       "       'Sarah', 'Girl'], dtype=object)"
      ]
     },
     "execution_count": 301,
     "metadata": {},
     "output_type": "execute_result"
    }
   ],
   "source": [
    "df['char'].unique()[20:30]"
   ]
  },
  {
   "cell_type": "code",
   "execution_count": 302,
   "metadata": {},
   "outputs": [],
   "source": [
    "df['char'].replace({'Chandler':'Chandler','CHANDLER':'Chandler', 'Chandlers':'Chandler', 'chandler': 'Chandler',\n",
    "                    'Joey':'Joey', 'JOEY': 'Joey',\n",
    "                    'Monica':'Monica','MONICA':'Monica', 'MOnica': 'Monica', 'MNCA': 'Monica',\n",
    "                    'Phoebe':'Phoebe','PHOEBE':'Phoebe', 'Pheebs':'Phoebe', 'Pheebs':'Phoebe',\n",
    "                    'Rachel':'Rachel','RACHEL':'Rachel', 'RACH':'Rachel', 'RAHCEL':'Rachel', 'Racel':'Rachel', 'Rache':'Rachel',\n",
    "                    'Ross':'Ross', 'RUSS':'Ross', 'ROSS': 'Ross'}, inplace=True)"
   ]
  },
  {
   "cell_type": "code",
   "execution_count": 303,
   "metadata": {},
   "outputs": [],
   "source": [
    "char = ['Chandler', 'Joey', 'Monica', 'Phoebe', 'Rachel', 'Ross']\n",
    "df = df[df['char'].isin(char)]"
   ]
  },
  {
   "cell_type": "code",
   "execution_count": 304,
   "metadata": {},
   "outputs": [
    {
     "data": {
      "text/html": [
       "<div>\n",
       "<style scoped>\n",
       "    .dataframe tbody tr th:only-of-type {\n",
       "        vertical-align: middle;\n",
       "    }\n",
       "\n",
       "    .dataframe tbody tr th {\n",
       "        vertical-align: top;\n",
       "    }\n",
       "\n",
       "    .dataframe thead th {\n",
       "        text-align: right;\n",
       "    }\n",
       "</style>\n",
       "<table border=\"1\" class=\"dataframe\">\n",
       "  <thead>\n",
       "    <tr style=\"text-align: right;\">\n",
       "      <th></th>\n",
       "      <th>season</th>\n",
       "      <th>episode</th>\n",
       "      <th>char</th>\n",
       "      <th>line</th>\n",
       "    </tr>\n",
       "  </thead>\n",
       "  <tbody>\n",
       "    <tr>\n",
       "      <th>3</th>\n",
       "      <td>6</td>\n",
       "      <td>16</td>\n",
       "      <td>Ross</td>\n",
       "      <td>Hey, remember when I had a monkey?</td>\n",
       "    </tr>\n",
       "    <tr>\n",
       "      <th>4</th>\n",
       "      <td>6</td>\n",
       "      <td>16</td>\n",
       "      <td>Chandler</td>\n",
       "      <td>Yeah.</td>\n",
       "    </tr>\n",
       "    <tr>\n",
       "      <th>5</th>\n",
       "      <td>6</td>\n",
       "      <td>16</td>\n",
       "      <td>Ross</td>\n",
       "      <td>Yeah, what, what was I thinking?</td>\n",
       "    </tr>\n",
       "    <tr>\n",
       "      <th>6</th>\n",
       "      <td>6</td>\n",
       "      <td>16</td>\n",
       "      <td>Joey</td>\n",
       "      <td>(hes just picked up their bill) Hey! So, wha...</td>\n",
       "    </tr>\n",
       "    <tr>\n",
       "      <th>7</th>\n",
       "      <td>6</td>\n",
       "      <td>16</td>\n",
       "      <td>Chandler</td>\n",
       "      <td>Twenty percent is a pretty generous tip Joe.</td>\n",
       "    </tr>\n",
       "    <tr>\n",
       "      <th>...</th>\n",
       "      <td>...</td>\n",
       "      <td>...</td>\n",
       "      <td>...</td>\n",
       "      <td>...</td>\n",
       "    </tr>\n",
       "    <tr>\n",
       "      <th>61822</th>\n",
       "      <td>8</td>\n",
       "      <td>22</td>\n",
       "      <td>Monica</td>\n",
       "      <td>How did you know that?! (Runs to yell at Joey...</td>\n",
       "    </tr>\n",
       "    <tr>\n",
       "      <th>61823</th>\n",
       "      <td>8</td>\n",
       "      <td>22</td>\n",
       "      <td>Phoebe</td>\n",
       "      <td>Theyre at the coffeehouse.</td>\n",
       "    </tr>\n",
       "    <tr>\n",
       "      <th>61824</th>\n",
       "      <td>8</td>\n",
       "      <td>22</td>\n",
       "      <td>Monica</td>\n",
       "      <td>You know everything!! Oh wait, double or noth...</td>\n",
       "    </tr>\n",
       "    <tr>\n",
       "      <th>61825</th>\n",
       "      <td>8</td>\n",
       "      <td>22</td>\n",
       "      <td>Phoebe</td>\n",
       "      <td>We know its a girl! (Exits.)</td>\n",
       "    </tr>\n",
       "    <tr>\n",
       "      <th>61826</th>\n",
       "      <td>8</td>\n",
       "      <td>22</td>\n",
       "      <td>Monica</td>\n",
       "      <td>(following her) Ill give you really good odd...</td>\n",
       "    </tr>\n",
       "  </tbody>\n",
       "</table>\n",
       "<p>50925 rows × 4 columns</p>\n",
       "</div>"
      ],
      "text/plain": [
       "      season episode      char  \\\n",
       "3          6      16      Ross   \n",
       "4          6      16  Chandler   \n",
       "5          6      16      Ross   \n",
       "6          6      16      Joey   \n",
       "7          6      16  Chandler   \n",
       "...      ...     ...       ...   \n",
       "61822      8      22    Monica   \n",
       "61823      8      22    Phoebe   \n",
       "61824      8      22    Monica   \n",
       "61825      8      22    Phoebe   \n",
       "61826      8      22    Monica   \n",
       "\n",
       "                                                    line  \n",
       "3                     Hey, remember when I had a monkey?  \n",
       "4                                                  Yeah.  \n",
       "5                       Yeah, what, what was I thinking?  \n",
       "6       (hes just picked up their bill) Hey! So, wha...  \n",
       "7           Twenty percent is a pretty generous tip Joe.  \n",
       "...                                                  ...  \n",
       "61822   How did you know that?! (Runs to yell at Joey...  \n",
       "61823                        Theyre at the coffeehouse.  \n",
       "61824   You know everything!! Oh wait, double or noth...  \n",
       "61825                      We know its a girl! (Exits.)  \n",
       "61826   (following her) Ill give you really good odd...  \n",
       "\n",
       "[50925 rows x 4 columns]"
      ]
     },
     "execution_count": 304,
     "metadata": {},
     "output_type": "execute_result"
    }
   ],
   "source": [
    "df"
   ]
  },
  {
   "cell_type": "code",
   "execution_count": 305,
   "metadata": {},
   "outputs": [],
   "source": [
    "df['sentiment'] = df['line'].apply(lambda x: TextBlob(x).sentiment[0])"
   ]
  },
  {
   "cell_type": "code",
   "execution_count": 306,
   "metadata": {},
   "outputs": [
    {
     "name": "stdout",
     "output_type": "stream",
     "text": [
      "<class 'pandas.core.frame.DataFrame'>\n",
      "Index: 50925 entries, 3 to 61826\n",
      "Data columns (total 5 columns):\n",
      " #   Column     Non-Null Count  Dtype  \n",
      "---  ------     --------------  -----  \n",
      " 0   season     50925 non-null  int64  \n",
      " 1   episode    50925 non-null  int64  \n",
      " 2   char       50925 non-null  object \n",
      " 3   line       50925 non-null  object \n",
      " 4   sentiment  50925 non-null  float64\n",
      "dtypes: float64(1), int64(2), object(2)\n",
      "memory usage: 2.3+ MB\n"
     ]
    }
   ],
   "source": [
    "df['season'] = df['season'].apply(lambda x: int(x))\n",
    "df['episode'] = df['episode'].apply(lambda x: int(x))\n",
    "df.info()"
   ]
  },
  {
   "cell_type": "code",
   "execution_count": 307,
   "metadata": {},
   "outputs": [],
   "source": [
    "conn = sqlite3.connect('friends_script.db') #connect to the database\n",
    "cur = conn.cursor()\n",
    "cur.execute('CREATE TABLE IF NOT EXISTS Friends(season number, episode number, char text, line text, sentiment integer)')\n",
    "conn.commit()"
   ]
  },
  {
   "cell_type": "code",
   "execution_count": 308,
   "metadata": {},
   "outputs": [
    {
     "data": {
      "text/plain": [
       "50925"
      ]
     },
     "execution_count": 308,
     "metadata": {},
     "output_type": "execute_result"
    }
   ],
   "source": [
    "df.to_sql('Friends', conn, if_exists='replace', index=False) # save into the 'lines' table"
   ]
  },
  {
   "cell_type": "code",
   "execution_count": 309,
   "metadata": {},
   "outputs": [],
   "source": [
    "COLORS=['#40E0D0', '#4682B4', '#708090', '#90EE90', '#FFDEAD', '#E9967A']"
   ]
  },
  {
   "cell_type": "markdown",
   "metadata": {},
   "source": [
    "## The Most Popular Friend"
   ]
  },
  {
   "cell_type": "code",
   "execution_count": 310,
   "metadata": {},
   "outputs": [],
   "source": [
    "cur.execute(\"SELECT char, COUNT(line) AS 'spoken_lines' FROM Friends GROUP BY char ORDER BY spoken_lines DESC\")\n",
    "most_lines = [c for c in cur.fetchall()]"
   ]
  },
  {
   "cell_type": "code",
   "execution_count": 311,
   "metadata": {},
   "outputs": [],
   "source": [
    "\n",
    "plt.rcParams['figure.figsize'] = (10, 6)\n",
    "fig, ax = plt.subplots()\n",
    "plt.bar(\n",
    "    x=[line[0] for line in most_lines],\n",
    "    height=[line[1] for line in most_lines],\n",
    "    color=COLORS\n",
    ")\n",
    "plt.title('Number of Lines for the Entire Show')\n",
    "plt.ylabel('No. of Lines')\n",
    "fig.tight_layout()\n",
    "\n",
    "# Save without the 'quality' argument\n",
    "fig.savefig('output.png')"
   ]
  },
  {
   "cell_type": "markdown",
   "metadata": {},
   "source": [
    "## Number of lines per season"
   ]
  },
  {
   "cell_type": "code",
   "execution_count": 312,
   "metadata": {},
   "outputs": [],
   "source": [
    "cur.execute(\"\"\"\n",
    "SELECT char, season, count(line) AS total_lines FROM Friends \n",
    "WHERE char IN ('Rachel', 'Ross', 'Monica','Chandler','Joey', 'Phoebe') GROUP BY season, char\"\"\")\n",
    "lines_per_season = [c for c in cur.fetchall()]"
   ]
  },
  {
   "cell_type": "code",
   "execution_count": 313,
   "metadata": {},
   "outputs": [],
   "source": [
    "lines_dict = {}\n",
    "for lines in lines_per_season:\n",
    "    char = lines[0]\n",
    "    season = lines[1]\n",
    "    total_lines = lines[2]\n",
    "    \n",
    "    if char in lines_dict:\n",
    "        # append the new number to the existing array at this slot\n",
    "        lines_dict[char][season] = total_lines\n",
    "    else:\n",
    "        # create a new array in this slot\n",
    "        lines_dict[char] = {\n",
    "            season: total_lines\n",
    "        }"
   ]
  },
  {
   "cell_type": "code",
   "execution_count": 314,
   "metadata": {},
   "outputs": [],
   "source": [
    "fig, ax = plt.subplots()\n",
    "plt.rcParams['figure.figsize'] = (10, 8)\n",
    "for char in lines_dict.keys():\n",
    "    x1 = lines_dict[char].keys()\n",
    "    y1 = lines_dict[char].values()\n",
    "    plt.plot(x1, y1, label = char)\n",
    "    \n",
    "plt.xlabel('Season')\n",
    "plt.ylabel('Number of Lines')\n",
    "plt.title('Number of lines by season')\n",
    "plt.legend(loc=1)\n",
    "plt.show()\n",
    "\n",
    "fig.savefig('output2.png')"
   ]
  },
  {
   "cell_type": "markdown",
   "metadata": {},
   "source": [
    "### Most Spoken About\n"
   ]
  },
  {
   "cell_type": "code",
   "execution_count": 335,
   "metadata": {},
   "outputs": [],
   "source": [
    "nicknames = [['Rachel', 'Rach'], \n",
    "             ['Ross', 'Ross-A-Tron', 'Professor Geller'], \n",
    "             ['Monica', 'Mon'],\n",
    "             ['Chandler', 'Chan'],\n",
    "             ['Joey', 'Joe'], \n",
    "             ['Phoebe', 'Phoebes', 'Pheebs']]"
   ]
  },
  {
   "cell_type": "code",
   "execution_count": 336,
   "metadata": {},
   "outputs": [],
   "source": [
    "all_lines = pd.read_sql(\"SELECT line FROM Friends\", conn)"
   ]
  },
  {
   "cell_type": "code",
   "execution_count": 337,
   "metadata": {},
   "outputs": [],
   "source": [
    "char_mention = [] \n",
    "\n",
    "for name_list in nicknames:    # loop for each character\n",
    "    mention_counter = 0        # keep track of the mentions\n",
    "    for name in name_list:     # loop for each nickname\n",
    "        mentions = all_lines['line'].str.count(name).sum()\n",
    "        mention_counter += mentions\n",
    "    char_mention.append([name_list[0], mention_counter]) #append the name and mention count"
   ]
  },
  {
   "cell_type": "code",
   "execution_count": 338,
   "metadata": {},
   "outputs": [],
   "source": [
    "char_mention = sorted(char_mention, key=lambda x: x[1], reverse=True)"
   ]
  },
  {
   "cell_type": "code",
   "execution_count": 339,
   "metadata": {},
   "outputs": [],
   "source": [
    "plt.rcParams['figure.figsize'] = (10, 6)\n",
    "fig, ax = plt.subplots()\n",
    "plt.bar(\n",
    "    x=[mention[0] for mention in char_mention],\n",
    "    height=[mention[1] for mention in char_mention],\n",
    "    color=COLORS\n",
    ")\n",
    "plt.title('Number of mentions in the script')\n",
    "plt.ylabel('No. of mentions')\n",
    "fig.tight_layout()\n",
    "\n",
    "fig.savefig('output3.png')"
   ]
  },
  {
   "cell_type": "markdown",
   "metadata": {},
   "source": [
    "### Largest Vocabulary"
   ]
  },
  {
   "cell_type": "code",
   "execution_count": 320,
   "metadata": {},
   "outputs": [],
   "source": [
    "# function to remove all non alphabetical characters keep spaces\n",
    "def alphanumonly(text):\n",
    "    # Remove all non letters from string\n",
    "    regex = re.compile('[^a-zA-Z ]')\n",
    "    # First parameter is the replacement, second parameter is your input string\n",
    "    return(regex.sub('', text))"
   ]
  },
  {
   "cell_type": "code",
   "execution_count": 321,
   "metadata": {},
   "outputs": [],
   "source": [
    "cur.execute(\"SELECT char, line FROM Friends WHERE char IN ('Rachel', 'Ross', 'Monica','Chandler','Joey', 'Phoebe')\")\n",
    "lines_per_season = [c for c in cur.fetchall()]"
   ]
  },
  {
   "cell_type": "code",
   "execution_count": 322,
   "metadata": {},
   "outputs": [],
   "source": [
    "monica_vocab = set()\n",
    "chandler_vocab = set()\n",
    "ross_vocab = set()\n",
    "phoebe_vocab = set()\n",
    "rachel_vocab = set()\n",
    "joey_vocab = set()\n",
    "\n",
    "for l in lines_per_season:\n",
    "    char = l[0]\n",
    "    l = alphanumonly(l[1]).strip()\n",
    "    split_words = l.split(' ')\n",
    "    for word in split_words:\n",
    "        if char == 'Monica':\n",
    "            monica_vocab.add(word)\n",
    "            \n",
    "        if char == 'Joey':\n",
    "            joey_vocab.add(word)\n",
    "        \n",
    "        if char == 'Ross':\n",
    "            ross_vocab.add(word)\n",
    "        \n",
    "        if char == 'Phoebe':\n",
    "            phoebe_vocab.add(word)\n",
    "        \n",
    "        if char == 'Chandler':\n",
    "            chandler_vocab.add(word)\n",
    "        \n",
    "        if char == 'Rachel':\n",
    "            rachel_vocab.add(word)\n",
    "\n",
    "char_vocal_length = ['Ross', 'Joey', 'Chandler', 'Rachel', 'Phoebe', 'Monica']\n",
    "vocab_lengths = [len(ross_vocab), len(joey_vocab), len(chandler_vocab), len(rachel_vocab), len(phoebe_vocab), len(monica_vocab)]"
   ]
  },
  {
   "cell_type": "code",
   "execution_count": 323,
   "metadata": {},
   "outputs": [],
   "source": [
    "plt.rcParams['figure.figsize'] = (10, 6)\n",
    "fig, ax = plt.subplots()\n",
    "plt.bar(\n",
    "    x=char_vocal_length,\n",
    "    height=vocab_lengths,\n",
    "    color=COLORS\n",
    ")\n",
    "plt.title('Largest Vocabulary')\n",
    "plt.ylabel('Number of unique words')\n",
    "fig.tight_layout()\n",
    "\n",
    "fig.savefig('output4.png')"
   ]
  },
  {
   "cell_type": "code",
   "execution_count": 324,
   "metadata": {},
   "outputs": [],
   "source": [
    "cur.execute(\"SELECT season, episode, sentiment FROM Friends WHERE char == 'Ross' ORDER BY season, episode\")\n",
    "ross_sentiments = [c for c in cur.fetchall()]"
   ]
  },
  {
   "cell_type": "code",
   "execution_count": 325,
   "metadata": {},
   "outputs": [],
   "source": [
    "ross_sentiment = {}\n",
    "\n",
    "for r in ross_sentiments:\n",
    "    season_episode = f'S{r[0]}E{r[1]}'\n",
    "    if r[0] == 10:\n",
    "        season_episode = f'STENE{r[1]}'\n",
    "    sentiment = r[2]\n",
    "    if season_episode in ross_sentiment:\n",
    "        ross_sentiment[season_episode] += sentiment\n",
    "    else:\n",
    "        ross_sentiment[season_episode] = sentiment"
   ]
  },
  {
   "cell_type": "code",
   "execution_count": 326,
   "metadata": {},
   "outputs": [],
   "source": [
    "plt.rcParams['figure.figsize'] = (14, 5)"
   ]
  },
  {
   "cell_type": "code",
   "execution_count": 327,
   "metadata": {},
   "outputs": [],
   "source": [
    "fig, ax = plt.subplots()\n",
    "\n",
    "seasons = ['S1', 'S2', 'S3', 'S4', 'S5', 'S6', 'S7', 'S8', 'S9', 'STEN']\n",
    "for season in seasons[0:3]:\n",
    "    sentiments = list(filter(lambda item: item[0].startswith(season), ross_sentiment.items())) \n",
    "    x1 = list(range(1, len(sentiments)+1))\n",
    "    y1 = [x[1] for x in sentiments]\n",
    "    plt.plot(x1, y1, label = season)\n",
    "    \n",
    "plt.xlabel('Episode Number')\n",
    "plt.ylabel('Sentiment Score')\n",
    "plt.title('Ross Sentiment per Episode in Seasons 1 to Season 3')\n",
    "plt.legend(loc=1)\n",
    "plt.show()\n",
    "\n",
    "fig.savefig('output5.png')"
   ]
  },
  {
   "cell_type": "code",
   "execution_count": 328,
   "metadata": {},
   "outputs": [],
   "source": [
    "fig, ax = plt.subplots()\n",
    "\n",
    "for season in seasons[3:6]:\n",
    "    sentiments = list(filter(lambda item: item[0].startswith(season), ross_sentiment.items())) \n",
    "    x1 = list(range(1, len(sentiments)+1))\n",
    "    y1 = [x[1] for x in sentiments]\n",
    "    plt.plot(x1, y1, label = season)\n",
    "    \n",
    "plt.xlabel('Episode Number')\n",
    "plt.ylabel('Sentiment Score')\n",
    "plt.title('Ross Sentiment per Episode in Seasons 4 to Season 6')\n",
    "plt.legend(loc=1)\n",
    "plt.show()\n",
    "\n",
    "fig.savefig('output6.png')"
   ]
  },
  {
   "cell_type": "code",
   "execution_count": null,
   "metadata": {},
   "outputs": [],
   "source": []
  },
  {
   "cell_type": "code",
   "execution_count": 329,
   "metadata": {},
   "outputs": [],
   "source": [
    "fig, ax = plt.subplots()\n",
    "\n",
    "for season in seasons[6:]:\n",
    "    \n",
    "    sentiments = list(filter(lambda item: item[0].startswith(season), ross_sentiment.items())) \n",
    "    x1 = list(range(1, len(sentiments)+1))\n",
    "    y1 = [x[1] for x in sentiments]\n",
    "    \n",
    "    if season == 'STEN': season = 'S10'\n",
    "    plt.plot(x1, y1, label = season)\n",
    "    \n",
    "plt.xlabel('Episode Number')\n",
    "plt.ylabel('Sentiment Score')\n",
    "plt.title('Ross Sentiment per Episode in Seasons 7 to Season 10')\n",
    "plt.legend(loc=1)\n",
    "plt.show()\n",
    "\n",
    "fig.savefig('output7.png')"
   ]
  }
 ],
 "metadata": {
  "kernelspec": {
   "display_name": "base",
   "language": "python",
   "name": "python3"
  },
  "language_info": {
   "codemirror_mode": {
    "name": "ipython",
    "version": 3
   },
   "file_extension": ".py",
   "mimetype": "text/x-python",
   "name": "python",
   "nbconvert_exporter": "python",
   "pygments_lexer": "ipython3",
   "version": "3.12.4"
  }
 },
 "nbformat": 4,
 "nbformat_minor": 2
}
